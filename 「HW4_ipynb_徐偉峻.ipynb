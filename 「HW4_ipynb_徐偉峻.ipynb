{
  "nbformat": 4,
  "nbformat_minor": 0,
  "metadata": {
    "colab": {
      "provenance": [],
      "include_colab_link": true
    },
    "kernelspec": {
      "name": "python3",
      "display_name": "Python 3"
    },
    "language_info": {
      "name": "python"
    }
  },
  "cells": [
    {
      "cell_type": "markdown",
      "metadata": {
        "id": "view-in-github",
        "colab_type": "text"
      },
      "source": [
        "<a href=\"https://colab.research.google.com/github/Hsu-Wei-Chun/AI-Hw2-pratice/blob/main/%E3%80%8CHW4_ipynb_%E5%BE%90%E5%81%89%E5%B3%BB.ipynb\" target=\"_parent\"><img src=\"https://colab.research.google.com/assets/colab-badge.svg\" alt=\"Open In Colab\"/></a>"
      ]
    },
    {
      "cell_type": "markdown",
      "source": [
        "# HW4_程式練習 (II)"
      ],
      "metadata": {
        "id": "bQ6YkMLxXGQt"
      }
    },
    {
      "cell_type": "markdown",
      "source": [
        "## 題目一 (25%)\n",
        "\n",
        "\n",
        "以下有一個 list：\n",
        "\n",
        "```\n",
        "numbers = [51, 30, 78, 20, 96, 40, 62]\n",
        "```\n",
        "\n",
        "### 任務內容\n",
        "1. 印出該 list 中的第 1 個數字、第 3 個數字與最後一個數字。\n",
        "2. 印出 list 中的最大值與最小值。\n",
        "3. 將 list 中的數字由小到大排序後印出。\n",
        "4. 計算並印出總和與平均值（平均值保留到小數點第 2 位）。\n",
        "5. 將大於等於 50 的數字存入新的 list，並印出此 list。\n",
        "\n",
        "\n"
      ],
      "metadata": {
        "id": "kXpZGNHGXhs1"
      }
    },
    {
      "cell_type": "code",
      "execution_count": null,
      "metadata": {
        "id": "zSvt9ox6WwQe",
        "colab": {
          "base_uri": "https://localhost:8080/"
        },
        "outputId": "ca771234-7780-4c9c-8630-a348ad712d3a"
      },
      "outputs": [
        {
          "output_type": "stream",
          "name": "stdout",
          "text": [
            "51\n",
            "78\n",
            "62\n",
            "96\n",
            "20\n",
            "[20, 30, 40, 51, 62, 78, 96]\n",
            "377\n",
            "53.86\n",
            "[51, 62, 78, 96]\n"
          ]
        }
      ],
      "source": [
        "numbers = [51, 30, 78, 20, 96, 40, 62]\n",
        "print(numbers[0])\n",
        "print(numbers[2])\n",
        "print(numbers[-1])\n",
        "print(max(numbers))\n",
        "print(min(numbers))\n",
        "numbers.sort()\n",
        "print(numbers)\n",
        "print(sum(numbers))\n",
        "print(round(sum(numbers)/len(numbers),2))\n",
        "new_numbers = []\n",
        "for i in numbers:\n",
        "    if i >= 50:\n",
        "        new_numbers.append(i)\n",
        "print(new_numbers)"
      ]
    },
    {
      "cell_type": "code",
      "source": [],
      "metadata": {
        "id": "8EqK1O1W4y1_"
      },
      "execution_count": null,
      "outputs": []
    },
    {
      "cell_type": "markdown",
      "source": [
        "## 題目二 (25%)\n",
        "\n",
        "以下為一個包含亞洲國家及其首都的字典，但其中有一些錯誤資訊：\n",
        "\n",
        "```\n",
        "asian_countries = {\n",
        "    'Taiwan': 'Taipei',\n",
        "    'Japan': 'Tokyo',\n",
        "    'South Korea': 'Seoul',\n",
        "    'Myanmar': 'Yangon',\n",
        "    'Germany': 'Berlin'\n",
        "    }\n",
        "```\n",
        "\n",
        "### 任務內容\n",
        "1. 將 `asian_countries` 印出來：\n",
        "```\n",
        "print('舊字典:', asian_countries)\n",
        "```\n",
        "2.  更新 `asian_countries`：\n",
        "    - 將 Myanmar 的首都更正為 Naypyidaw\n",
        "    - 將 Germany 從字典中移除\n",
        "    - 將 Thailand 及其首都 Bangkok 新增到字典中\n",
        "\n",
        "  ```\n",
        "  print('新字典:', asian_countries)\n",
        "  ```\n",
        "3. 將國家按照字母排序，並將排序後的結果指派給一個變數 `sorted_asian_countries` 。\n",
        "  ```\n",
        "  print('排序後新字典:', sorted_asian_countries)\n",
        "  ```"
      ],
      "metadata": {
        "id": "jbgV6MGtXidj"
      }
    },
    {
      "cell_type": "code",
      "source": [
        "asian_countries = {\n",
        "    'Taiwan': 'Taipei',\n",
        "    'Japan': 'Tokyo',\n",
        "    'South Korea': 'Seoul',\n",
        "    'Myanmar': 'Yangon',\n",
        "    'Germany': 'Berlin'\n",
        "    }\n",
        "print('舊字典:', asian_countries)\n",
        "asian_countries['Myanmar'] = 'Naypyidaw'\n",
        "del asian_countries['Germany']\n",
        "asian_countries['Thailand'] = 'Bangkok'\n",
        "print('新字典:', asian_countries)\n",
        "sorted_asian_countries = dict(sorted(asian_countries.items()))\n",
        "print('排序後新字典:', sorted_asian_countries)\n",
        "print(asian_countries)"
      ],
      "metadata": {
        "id": "Tq6zcAohXi6P",
        "colab": {
          "base_uri": "https://localhost:8080/"
        },
        "outputId": "80969f70-171b-448e-af1d-f596daead833"
      },
      "execution_count": null,
      "outputs": [
        {
          "output_type": "stream",
          "name": "stdout",
          "text": [
            "舊字典: {'Taiwan': 'Taipei', 'Japan': 'Tokyo', 'South Korea': 'Seoul', 'Myanmar': 'Yangon', 'Germany': 'Berlin'}\n",
            "新字典: {'Taiwan': 'Taipei', 'Japan': 'Tokyo', 'South Korea': 'Seoul', 'Myanmar': 'Naypyidaw', 'Thailand': 'Bangkok'}\n",
            "排序後新字典: {'Japan': 'Tokyo', 'Myanmar': 'Naypyidaw', 'South Korea': 'Seoul', 'Taiwan': 'Taipei', 'Thailand': 'Bangkok'}\n",
            "{'Taiwan': 'Taipei', 'Japan': 'Tokyo', 'South Korea': 'Seoul', 'Myanmar': 'Naypyidaw', 'Thailand': 'Bangkok'}\n"
          ]
        }
      ]
    },
    {
      "cell_type": "markdown",
      "source": [
        "## 題目三 (25%)\n",
        "\n",
        "班上有 4 位學生，他們分別有 3 科的考試成績，資料如下：\n",
        "\n",
        "```python\n",
        "scores = {\n",
        "    \"Linda\": [85, 90, 78],\n",
        "    \"Richard\": [72, 88, 91],\n",
        "    \"Una\": [90, 85, 87],\n",
        "    \"Brian\": [60, 75, 70]\n",
        "}\n",
        "```\n",
        "\n",
        "### 任務內容\n",
        "1. 計算每位學生的平均分數。\n",
        "2. 根據平均分數，判斷每位學生的成績評語：\n",
        "  - 平均分數 ≥ 85，評語為「優秀」\n",
        "  - 平均分數 ≥ 70 且 < 85，評語為「及格」\n",
        "  - 平均分數 < 70，評語為「需加強」\n",
        "\n",
        "3. 請印出每位學生的「平均分數」與「評語」。\n",
        "4. 額外統計：\n",
        "  - 計算全班的「總平均分數」。\n",
        "  - 找出「平均分數最高的學生」並印出其姓名與平均分數。\n",
        "\n",
        "\n"
      ],
      "metadata": {
        "id": "Hx3rNLDcZ-wy"
      }
    },
    {
      "cell_type": "code",
      "source": [
        "scores = {\n",
        "    \"Linda\": [85, 90, 78],\n",
        "    \"Richard\": [72, 88, 91],\n",
        "    \"Una\": [90, 85, 87],\n",
        "    \"Brian\": [60, 75, 70]\n",
        "}\n",
        "for student, scores_list in scores.items():\n",
        "    avg_score = sum(scores_list) / len(scores_list)\n",
        "    scores[student] = avg_score\n",
        "    print(f\"{student}的平均分數為: {avg_score:.2f}\")\n",
        "    # The if statement and subsequent blocks were incorrectly indented.\n",
        "    # Corrected the indentation to align with the for loop.\n",
        "    if avg_score >= 85:\n",
        "        comment = \"優秀\"\n",
        "    elif avg_score >= 70:\n",
        "        comment = \"及格\"\n",
        "    else:\n",
        "        comment = \"需加強\"\n",
        "    print(f\"{student}的評語為: {comment}\")\n",
        "    print(f\"{student}的平均分數為: {avg_score:.2f}，評語為: {comment}\")\n",
        "# The following lines were also incorrectly indented.\n",
        "# Moved them outside the for loop to calculate and print after processing all students.\n",
        "total_avg_score = sum(scores.values()) / len(scores)\n",
        "print(f\"全班的總平均分數為: {total_avg_score:.2f}\")\n",
        "highest_avg_student = max(scores, key=scores.get)\n",
        "print(f\"平均分數最高的學生是: {highest_avg_student}，平均分數為: {scores[highest_avg_student]:.2f}\")\n"
      ],
      "metadata": {
        "id": "bOx8kovoZ-_V",
        "colab": {
          "base_uri": "https://localhost:8080/"
        },
        "outputId": "5dd83ace-8ab3-4d2d-92b4-635958028a29"
      },
      "execution_count": null,
      "outputs": [
        {
          "output_type": "stream",
          "name": "stdout",
          "text": [
            "Linda的平均分數為: 84.33\n",
            "Linda的評語為: 及格\n",
            "Linda的平均分數為: 84.33，評語為: 及格\n",
            "Richard的平均分數為: 83.67\n",
            "Richard的評語為: 及格\n",
            "Richard的平均分數為: 83.67，評語為: 及格\n",
            "Una的平均分數為: 87.33\n",
            "Una的評語為: 優秀\n",
            "Una的平均分數為: 87.33，評語為: 優秀\n",
            "Brian的平均分數為: 68.33\n",
            "Brian的評語為: 需加強\n",
            "Brian的平均分數為: 68.33，評語為: 需加強\n",
            "全班的總平均分數為: 80.92\n",
            "平均分數最高的學生是: Una，平均分數為: 87.33\n"
          ]
        }
      ]
    },
    {
      "cell_type": "markdown",
      "source": [
        "## 題目四 (25%)\n",
        "\n",
        "我們假設一組有效的密碼必須符合以下條件：\n",
        "\n",
        "- 長度大於 5 個字元\n",
        "- 必須包含：\n",
        "   - 大寫英文字母\n",
        "   - 小寫英文字母\n",
        "   - 數字\n",
        "- 不可以有空白  \n",
        "<br/>\n",
        "\n",
        "### 任務內容\n",
        "1. 請針對以上條件，撰寫一個函數 `check_password()`，判斷傳入的字串是否為有效密碼。如果輸入為有效密碼，函數將回傳 `Valid Password`；如果是無效密碼，函數回傳 `INVALID`。\n",
        "2. 請使用你的函數印出以下結果  \n",
        "```\n",
        "check_password(\"GenAI4Humanities\")\n",
        "check_password(\"genai4humanities\")\n",
        "check_password(\"GENAI4HUMANITIES\")\n",
        "check_password(\"GenAIGenAI\")\n",
        "check_password(\"GenAI 2025\")\n",
        "check_password(\"GenAI\")\n",
        "```"
      ],
      "metadata": {
        "id": "zSAycbMmZ_Ur"
      }
    },
    {
      "cell_type": "code",
      "source": [
        "def check_password(password):\n",
        "    if len(password) <= 5:\n",
        "        return \"INVALID\"\n",
        "    if not any(char.isupper() for char in password):\n",
        "        return \"INVALID\"\n",
        "    if not any(char.islower() for char in password):\n",
        "        return \"INVALID\"\n",
        "    if not any(char.isdigit() for char in password):\n",
        "        return \"INVALID\"\n",
        "    if ' ' in password:\n",
        "        return \"INVALID\"\n",
        "    return \"Valid Password\"\n",
        "\n",
        "passwords = [\n",
        "    \"GenAI4Humanities\",\n",
        "    \"genai4humanities\",\n",
        "    \"GENAI4HUMANITIES\",\n",
        "    \"GenAIGenAI\",\n",
        "    \"GenAI 2025\",\n",
        "    \"GenAI\"\n",
        "]\n",
        "for password in passwords:\n",
        "    # This line was not indented properly causing the error.\n",
        "    # Indenting it to align with the code block within the for loop.\n",
        "    result = check_password(password)\n",
        "    print(f\"密碼 '{password}' 的檢查結果: {result}\")"
      ],
      "metadata": {
        "id": "tvYzrt9BaDkr",
        "colab": {
          "base_uri": "https://localhost:8080/"
        },
        "outputId": "6eaaa664-5968-4063-8bfc-eed83297e658"
      },
      "execution_count": null,
      "outputs": [
        {
          "output_type": "stream",
          "name": "stdout",
          "text": [
            "密碼 'GenAI4Humanities' 的檢查結果: Valid Password\n",
            "密碼 'genai4humanities' 的檢查結果: INVALID\n",
            "密碼 'GENAI4HUMANITIES' 的檢查結果: INVALID\n",
            "密碼 'GenAIGenAI' 的檢查結果: INVALID\n",
            "密碼 'GenAI 2025' 的檢查結果: INVALID\n",
            "密碼 'GenAI' 的檢查結果: INVALID\n"
          ]
        }
      ]
    }
  ]
}